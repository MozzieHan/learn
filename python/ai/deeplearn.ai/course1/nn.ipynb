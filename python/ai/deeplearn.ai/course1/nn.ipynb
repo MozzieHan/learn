{
 "cells": [
  {
   "cell_type": "code",
   "execution_count": 1,
   "metadata": {
    "collapsed": true
   },
   "outputs": [],
   "source": [
    "from neuralNetwork import DeepNeuralNetwork\n",
    "import nn_utils"
   ]
  },
  {
   "cell_type": "code",
   "execution_count": 2,
   "metadata": {},
   "outputs": [],
   "source": [
    "train_X_orig, train_Y, test_X_orig, test_Y, classes = nn_utils.load_data()\n",
    "train_X = train_X_orig.reshape(train_X_orig.shape[0], -1).T / 255\n",
    "test_X = test_X_orig.reshape(test_X_orig.shape[0], -1).T / 255\n",
    "layers_dims = (train_X.shape[0], 7, 1)"
   ]
  },
  {
   "cell_type": "code",
   "execution_count": 3,
   "metadata": {},
   "outputs": [],
   "source": [
    "dnn = DeepNeuralNetwork(train_X, train_Y, layers_dims, num_iterations=3000, print_cost=False)\n",
    "dnn.run()"
   ]
  },
  {
   "cell_type": "code",
   "execution_count": 5,
   "metadata": {},
   "outputs": [
    {
     "name": "stdout",
     "output_type": "stream",
     "text": [
      "Accuracy: 0.9999999999999998\nAccuracy: 0.6600000000000001\n"
     ]
    }
   ],
   "source": [
    "dnn.predict(train_X, train_Y)\n",
    "predict = dnn.predict(test_X, test_Y)"
   ]
  },
  {
   "cell_type": "code",
   "execution_count": 6,
   "metadata": {},
   "outputs": [],
   "source": [
    "dnn.print_mislabeled_images(classes, test_X, test_Y, predict)"
   ]
  },
  {
   "cell_type": "code",
   "execution_count": 9,
   "metadata": {},
   "outputs": [
    {
     "data": {
      "text/plain": [
       "array([[2., 1., 2., 2., 2., 0., 1., 1., 2., 2., 1., 2., 2., 0., 0., 2.,\n        0., 2., 1., 1., 2., 0., 0., 2., 2., 1., 1., 0., 1., 1., 1., 2.,\n        2., 1., 0., 0., 0., 1., 0., 0., 1., 1., 2., 0., 1., 0., 1., 2.,\n        2., 0.]])"
      ]
     },
     "execution_count": 9,
     "metadata": {},
     "output_type": "execute_result"
    }
   ],
   "source": [
    ""
   ]
  },
  {
   "cell_type": "code",
   "execution_count": null,
   "metadata": {},
   "outputs": [],
   "source": []
  }
 ],
 "metadata": {
  "kernelspec": {
   "display_name": "Python 2",
   "language": "python",
   "name": "python2"
  },
  "language_info": {
   "codemirror_mode": {
    "name": "ipython",
    "version": 2
   },
   "file_extension": ".py",
   "mimetype": "text/x-python",
   "name": "python",
   "nbconvert_exporter": "python",
   "pygments_lexer": "ipython2",
   "version": "2.7.6"
  }
 },
 "nbformat": 4,
 "nbformat_minor": 0
}
